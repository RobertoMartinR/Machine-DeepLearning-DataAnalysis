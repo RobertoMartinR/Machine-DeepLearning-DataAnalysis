{
  "cells": [
    {
      "cell_type": "markdown",
      "metadata": {
        "id": "xeAqo5R6o1Zw"
      },
      "source": [
        "In this project the idea is to work with the Catalonian Mobile Coverage from BigQuery, clean the data and analyze the relationship between te features, see what happens and apply PCA.\n",
        "\n",
        "Lets load the data from [BigQuery Public Dataset Program](https://cloud.google.com/bigquery/public-data)"
      ]
    },
    {
      "cell_type": "markdown",
      "metadata": {
        "id": "5QrQNCSwyjyl"
      },
      "source": [
        "To access to the console: https://console.cloud.google.com/bigquery?p=bigquery-public-data&d=catalonian_mobile_coverage_eu&page=dataset&authuser=1&project=primeval-beaker-440708-m7&supportedpurview=project&ws=!1m5!1m4!4m3!1sbigquery-public-data!2scatalonian_mobile_coverage_eu!3smobile_data_2015_2017"
      ]
    },
    {
      "cell_type": "code",
      "execution_count": 1,
      "metadata": {
        "id": "0sob0VmDhOaE"
      },
      "outputs": [
        {
          "ename": "ModuleNotFoundError",
          "evalue": "No module named 'google'",
          "output_type": "error",
          "traceback": [
            "\u001b[1;31m---------------------------------------------------------------------------\u001b[0m",
            "\u001b[1;31mModuleNotFoundError\u001b[0m                       Traceback (most recent call last)",
            "Cell \u001b[1;32mIn[1], line 2\u001b[0m\n\u001b[0;32m      1\u001b[0m \u001b[38;5;66;03m# Load libraries\u001b[39;00m\n\u001b[1;32m----> 2\u001b[0m \u001b[38;5;28;01mfrom\u001b[39;00m \u001b[38;5;21;01mgoogle\u001b[39;00m\u001b[38;5;21;01m.\u001b[39;00m\u001b[38;5;21;01mcloud\u001b[39;00m \u001b[38;5;28;01mimport\u001b[39;00m bigquery\n\u001b[0;32m      3\u001b[0m \u001b[38;5;28;01mimport\u001b[39;00m \u001b[38;5;21;01mpandas\u001b[39;00m \u001b[38;5;28;01mas\u001b[39;00m \u001b[38;5;21;01mpd\u001b[39;00m\n\u001b[0;32m      4\u001b[0m \u001b[38;5;28;01mimport\u001b[39;00m \u001b[38;5;21;01mnumpy\u001b[39;00m \u001b[38;5;28;01mas\u001b[39;00m \u001b[38;5;21;01mnp\u001b[39;00m\n",
            "\u001b[1;31mModuleNotFoundError\u001b[0m: No module named 'google'"
          ]
        }
      ],
      "source": [
        "# Load libraries\n",
        "from google.cloud import bigquery\n",
        "import pandas as pd\n",
        "import numpy as np"
      ]
    },
    {
      "cell_type": "code",
      "execution_count": 2,
      "metadata": {
        "colab": {
          "base_uri": "https://localhost:8080/"
        },
        "id": "Ag649m1Tg51Y",
        "outputId": "fc682430-d122-4f87-9a83-fdf61c54672d"
      },
      "outputs": [],
      "source": [
        "from google.colab import auth\n",
        "auth.authenticate_user()\n",
        "print('Authentication complete')"
      ]
    },
    {
      "cell_type": "markdown",
      "metadata": {
        "id": "SykiRo4qt07C"
      },
      "source": [
        "Read the data from Big Query and store them in a pandas dataframe limited to 100000 lines of reading"
      ]
    },
    {
      "cell_type": "code",
      "execution_count": 3,
      "metadata": {
        "colab": {
          "base_uri": "https://localhost:8080/",
          "height": 293
        },
        "id": "F6sVq9CSiCyh",
        "outputId": "f8df87d1-0054-4fbe-90ae-1d89630f03d7"
      },
      "outputs": [],
      "source": [
        "project_reader = \"orderingandcleaningdata1\" # Change this for your project name in GCP\n",
        "project_public = \"bigquery-public-data\"\n",
        "dataset_id = \"catalonian_mobile_coverage_eu\"\n",
        "table_id = \"mobile_data_2015_2017\"\n",
        "bq_client = bigquery.Client(project_reader)\n",
        "dataset_ref = bigquery.DatasetReference(project_public, dataset_id)\n",
        "table_ref = dataset_ref.table(table_id)\n",
        "table = bq_client.get_table(table_ref)\n",
        "df = bq_client.list_rows(table,max_results=100000).to_dataframe() # Leemos los primeros 100,000 registros\n",
        "df.head()"
      ]
    },
    {
      "cell_type": "code",
      "execution_count": 4,
      "metadata": {
        "colab": {
          "base_uri": "https://localhost:8080/"
        },
        "id": "lW26CcDmibi4",
        "outputId": "190530f5-982f-4aa8-fad1-af519d12a631"
      },
      "outputs": [],
      "source": [
        "df.info()"
      ]
    },
    {
      "cell_type": "code",
      "execution_count": 5,
      "metadata": {
        "colab": {
          "base_uri": "https://localhost:8080/",
          "height": 300
        },
        "id": "nkAkV05SVPAg",
        "outputId": "00c3419e-874c-46f9-b3c2-43717ba46c37"
      },
      "outputs": [],
      "source": [
        "df.describe()"
      ]
    },
    {
      "cell_type": "code",
      "execution_count": 6,
      "metadata": {
        "colab": {
          "base_uri": "https://localhost:8080/",
          "height": 424
        },
        "id": "UacaWG74Tk_K",
        "outputId": "aa243e23-c6f0-4d04-80b6-25f13c12a501"
      },
      "outputs": [],
      "source": [
        "# Drop 'downloadSpeed' and 'uploadSpeed' as it has full missing values \n",
        "df.drop(['downloadSpeed', 'uploadSpeed'], axis=1, inplace=True)\n",
        "\n",
        "# Check if the drop has been successful\n",
        "df"
      ]
    },
    {
      "cell_type": "code",
      "execution_count": 7,
      "metadata": {
        "colab": {
          "base_uri": "https://localhost:8080/"
        },
        "id": "Nym5WNUaUiNc",
        "outputId": "9ac196c3-4855-49ba-fb8c-784b3fd272a5"
      },
      "outputs": [],
      "source": [
        "# Let's check the missing values for the feature 'network'\n",
        "df['network'].isna().sum()"
      ]
    },
    {
      "cell_type": "code",
      "execution_count": 8,
      "metadata": {
        "colab": {
          "base_uri": "https://localhost:8080/",
          "height": 1000
        },
        "id": "oWrU3BS3Un_m",
        "outputId": "afaf58b7-b0a6-40ce-ee9c-12c1ec9675cc"
      },
      "outputs": [],
      "source": [
        "# Check how many times each value appears in the column. There is a big difference between the first and the second value that appear the most, it's almost the double\n",
        "df['network'].value_counts()"
      ]
    },
    {
      "cell_type": "code",
      "execution_count": 9,
      "metadata": {
        "colab": {
          "base_uri": "https://localhost:8080/"
        },
        "id": "8aJQUM2CWt1H",
        "outputId": "3fb74d25-7c6e-48d1-deb7-87b34bb04b74"
      },
      "outputs": [],
      "source": [
        "# To fill the values we are going to use the mode, as there is a big difference in the appearance ratio among all the values\n",
        "df['network'].fillna('Movistar', inplace=True)\n",
        "df['network'].isna().sum() # Check if there are missing values left"
      ]
    },
    {
      "cell_type": "code",
      "execution_count": 10,
      "metadata": {
        "colab": {
          "base_uri": "https://localhost:8080/",
          "height": 1000
        },
        "id": "XJySCf9VXTZI",
        "outputId": "ee96b9b9-f647-470e-e7b7-a4260c663633"
      },
      "outputs": [],
      "source": [
        "# Repeat with every column that has missing values left like 'operator', 'net', 'postal_code' y 'town_name'\n",
        "df['operator'].value_counts()"
      ]
    },
    {
      "cell_type": "code",
      "execution_count": 11,
      "metadata": {
        "colab": {
          "base_uri": "https://localhost:8080/"
        },
        "id": "kPfV0iweXu7j",
        "outputId": "b01b682a-b1ef-4353-dbf4-379a920e1699"
      },
      "outputs": [],
      "source": [
        "# Same reasoning as before\n",
        "df['operator'].fillna('Movistar', inplace=True)\n",
        "df['operator'].isna().sum() # Check that missing values has been replaced succesfully"
      ]
    },
    {
      "cell_type": "code",
      "execution_count": 12,
      "metadata": {
        "colab": {
          "base_uri": "https://localhost:8080/",
          "height": 210
        },
        "id": "OyaAi00bYXSS",
        "outputId": "9a54a07d-ae07-4cd9-8eb7-573ebd7b31cd"
      },
      "outputs": [],
      "source": [
        "df['net'].value_counts()"
      ]
    },
    {
      "cell_type": "code",
      "execution_count": 13,
      "metadata": {
        "colab": {
          "base_uri": "https://localhost:8080/"
        },
        "id": "IwzvSdTMbP-c",
        "outputId": "0a4deb3f-1ad7-4751-8458-aae380c9ca51"
      },
      "outputs": [],
      "source": [
        "# We fill with the value '4G' following same reasoning as before and nowadays almost everyone has '4G' internet connection\n",
        "df['net'].fillna('4G', inplace=True)\n",
        "df['net'].isna().sum() # Revisamos que no queden valores nulos"
      ]
    },
    {
      "cell_type": "code",
      "execution_count": 14,
      "metadata": {
        "colab": {
          "base_uri": "https://localhost:8080/"
        },
        "id": "qgokTrupbbTo",
        "outputId": "37d7e5cd-f7d4-4368-90ce-bc6b1ff54c3b"
      },
      "outputs": [],
      "source": [
        "# Both 'postal_code' and 'town_name' have the same amount of missing values representing the 8,53 % of the total. We have different aproaches, like replacing the values or deleting them.\n",
        "print(df['postal_code'].isna().sum())\n",
        "print(df['town_name'].isna().sum())"
      ]
    },
    {
      "cell_type": "code",
      "execution_count": 15,
      "metadata": {
        "colab": {
          "base_uri": "https://localhost:8080/"
        },
        "id": "XSQPKfmXeFgi",
        "outputId": "60509f6b-2fc6-4112-9548-92bd0f10c840"
      },
      "outputs": [],
      "source": [
        "# In this case I'm going to fill them using the mode and lately I will think if there's is a better approach like deleting the missing data or filling with another value\n",
        "df['postal_code'].fillna(df['postal_code'].mode()[0], inplace=True)\n",
        "df['town_name'].fillna(df['town_name'].mode()[0], inplace=True)\n",
        "\n",
        "# Again check if the filling was completed succesfully\n",
        "print(df['postal_code'].isna().sum())\n",
        "print(df['town_name'].isna().sum())"
      ]
    },
    {
      "cell_type": "code",
      "execution_count": 16,
      "metadata": {
        "colab": {
          "base_uri": "https://localhost:8080/"
        },
        "id": "CJd59twfljR1",
        "outputId": "7573f3d6-32a2-4f15-f182-31d99c98036e"
      },
      "outputs": [],
      "source": [
        "# Now we are gonna check if there is any missing value left in the dataset\n",
        "df.info()"
      ]
    },
    {
      "cell_type": "code",
      "execution_count": 17,
      "metadata": {
        "id": "-OR0xX0hlrtM"
      },
      "outputs": [],
      "source": [
        "# Now that we saw there are no missings left let's change the data type of some columns to work better with them\n",
        "\n",
        "# Let's transform 'object' type columns in 'category' type columns as it uses less memory\n",
        "for col in ['network', 'operator', 'provider', 'activity', 'description', 'net', 'town_name', 'status']:\n",
        "    df[col] = df[col].astype('category')"
      ]
    },
    {
      "cell_type": "code",
      "execution_count": 18,
      "metadata": {
        "id": "at_U27IoKi_H"
      },
      "outputs": [],
      "source": [
        "# Convert 'date' and 'hour' column in a datestamp one joining both together\n",
        "df['date'] = pd.to_datetime(df['date'])\n",
        "df['hour'] = pd.to_datetime(df['hour'], format='%H:%M:%S').dt.time\n",
        "\n",
        "df['timestamp'] = df['date'] + pd.to_timedelta(df['hour'].astype(str))\n",
        "\n",
        "# Drop the columns 'hour' and 'date'\n",
        "df.drop(['hour', 'date'], axis=1, inplace=True)"
      ]
    },
    {
      "cell_type": "code",
      "execution_count": 19,
      "metadata": {
        "id": "3LT8g8GTKkBl"
      },
      "outputs": [],
      "source": [
        "# Extract the latitude and longitude values\n",
        "df['lat'] = df['position_geom'].apply(lambda x: float(x.split('(')[1].split()[0]))\n",
        "df['lon'] = df['position_geom'].apply(lambda x: float(x.split('(')[1].split()[1].replace(')', '')))\n",
        "\n",
        "# Drop original column\n",
        "df.drop(['position_geom'], axis=1, inplace=True)"
      ]
    },
    {
      "cell_type": "code",
      "execution_count": 20,
      "metadata": {
        "colab": {
          "base_uri": "https://localhost:8080/"
        },
        "id": "ZPwMS8R-RX7S",
        "outputId": "07137b3e-143e-4ddc-b357-a4b2a6f0ae56"
      },
      "outputs": [],
      "source": [
        "# Drop dupplicates in case there's any\n",
        "df.drop_duplicates(inplace=True)\n",
        "df.info() # 857 were removed so it seems there were duplicates"
      ]
    },
    {
      "cell_type": "code",
      "execution_count": 21,
      "metadata": {
        "colab": {
          "base_uri": "https://localhost:8080/",
          "height": 677
        },
        "id": "NMceNe8UTPSa",
        "outputId": "7062a3fc-e8f6-4089-84c7-eab8ab33e521"
      },
      "outputs": [],
      "source": [
        "df.head(20)"
      ]
    },
    {
      "cell_type": "code",
      "execution_count": 22,
      "metadata": {
        "id": "saQYsz00Tz3P"
      },
      "outputs": [],
      "source": [
        "# Encode strings into numbers \n",
        "def encode_label(df, columns):\n",
        "    for col in columns:\n",
        "        if col in df.columns:\n",
        "            df[col] = df[col].astype('category').cat.codes\n",
        "    return df"
      ]
    },
    {
      "cell_type": "code",
      "execution_count": 23,
      "metadata": {
        "id": "NTLksXUiT2vf"
      },
      "outputs": [],
      "source": [
        "cols_to_code = ['network', 'operator', 'description', 'net', 'provider', 'activity', 'town_name']\n",
        "df_encoded = encode_label(df, cols_to_code)"
      ]
    },
    {
      "cell_type": "code",
      "execution_count": 24,
      "metadata": {
        "colab": {
          "base_uri": "https://localhost:8080/",
          "height": 206
        },
        "id": "x0nZA05xfFyw",
        "outputId": "f47b679b-81da-4352-858e-308d83882044"
      },
      "outputs": [],
      "source": [
        "# Now, all the dataset has been cleaned and encoded to work with it properly in case we use any ML or DL algorithm\n",
        "df_encoded.head()"
      ]
    },
    {
      "cell_type": "code",
      "execution_count": 25,
      "metadata": {
        "colab": {
          "base_uri": "https://localhost:8080/",
          "height": 582
        },
        "id": "sXT2QK9pfTOw",
        "outputId": "6237cc2c-e123-4c42-a65f-362b3c515342"
      },
      "outputs": [],
      "source": [
        "# Apply Pearson's correlation method\n",
        "cor = df_encoded.corr()\n",
        "cor"
      ]
    },
    {
      "cell_type": "code",
      "execution_count": 26,
      "metadata": {
        "colab": {
          "base_uri": "https://localhost:8080/",
          "height": 905
        },
        "id": "_JOTSVqjawCY",
        "outputId": "0b014254-542a-45e0-9bc4-beab6a2b1785"
      },
      "outputs": [],
      "source": [
        "# Let's take the 'net' feature' as target and try to see the correlation with the other features\n",
        "import matplotlib.pyplot as plt\n",
        "import seaborn as sns\n",
        "\n",
        "plt.figure(figsize=(12,10))\n",
        "sns.heatmap(cor, annot=True, cmap=plt.cm.Reds)\n",
        "plt.show()"
      ]
    },
    {
      "cell_type": "code",
      "execution_count": 27,
      "metadata": {
        "colab": {
          "base_uri": "https://localhost:8080/",
          "height": 115
        },
        "id": "3QNIklSNaw0l",
        "outputId": "5198aaa9-3bc7-42b9-e356-6b1eab7c4630"
      },
      "outputs": [],
      "source": [
        "# There's no correlation between the features higher than 0.5 and that's what we were looking for\n",
        "cor_target = abs(cor[\"net\"])\n",
        "relevant_features = cor_target[cor_target>0.5]\n",
        "relevant_features"
      ]
    },
    {
      "cell_type": "code",
      "execution_count": 28,
      "metadata": {
        "id": "Pmsa8fD9mRjm"
      },
      "outputs": [],
      "source": [
        "# Let's normalize the data to see if anything changes\n",
        "from sklearn.preprocessing import MinMaxScaler\n",
        "\n",
        "cols_to_standard = ['signal', 'speed', 'satellites', 'precission', 'network', 'operator', 'provider', 'activity', 'description', 'net']\n",
        "\n",
        "min_max_scaler = MinMaxScaler()\n",
        "df.drop(['timestamp'], axis=1, inplace=True)\n",
        "df_normalized = pd.DataFrame(min_max_scaler.fit_transform(df_encoded), columns=df.columns)"
      ]
    },
    {
      "cell_type": "code",
      "execution_count": 34,
      "metadata": {
        "id": "l2ZQ2JP_yOIj"
      },
      "outputs": [],
      "source": [
        "cor_2 = df_normalized.corr()"
      ]
    },
    {
      "cell_type": "code",
      "execution_count": 35,
      "metadata": {
        "colab": {
          "base_uri": "https://localhost:8080/",
          "height": 905
        },
        "id": "NycJeKmgoScv",
        "outputId": "1adaa86f-eb93-41e9-93d0-9aff83bf34cc"
      },
      "outputs": [],
      "source": [
        "import matplotlib.pyplot as plt\n",
        "import seaborn as sns\n",
        "\n",
        "plt.figure(figsize=(12,10))\n",
        "sns.heatmap(cor_2, annot=True, cmap=plt.cm.Reds)\n",
        "plt.show()"
      ]
    },
    {
      "cell_type": "markdown",
      "metadata": {
        "id": "21IkYdyJoxQn"
      },
      "source": [
        "#### As we can see there's still no correlation, thats because there's is no 'target' in the dataset so the features are no correlated between them\n"
      ]
    },
    {
      "cell_type": "code",
      "execution_count": 74,
      "metadata": {
        "colab": {
          "base_uri": "https://localhost:8080/"
        },
        "id": "R8kcxHZko5hU",
        "outputId": "2d33404a-37e2-4c71-a8c9-60235f0dda4d"
      },
      "outputs": [],
      "source": [
        "# Apply PCA and see what happens\n",
        "from sklearn.decomposition import PCA\n",
        "\n",
        "pca = PCA()  \n",
        "pca.fit(df_normalized)\n",
        "\n",
        "varianza_explicada = pca.explained_variance_ratio_\n",
        "print(varianza_explicada)"
      ]
    },
    {
      "cell_type": "code",
      "execution_count": 76,
      "metadata": {
        "colab": {
          "base_uri": "https://localhost:8080/"
        },
        "id": "9Ld_BEX1Ccs2",
        "outputId": "30f3eb56-7ce6-4b73-a2a0-87d104a38bb7"
      },
      "outputs": [],
      "source": [
        "# See the explained variance\n",
        "varianza_acumulada = np.cumsum(varianza_explicada)\n",
        "print(varianza_acumulada)"
      ]
    },
    {
      "cell_type": "code",
      "execution_count": 78,
      "metadata": {
        "colab": {
          "base_uri": "https://localhost:8080/",
          "height": 565
        },
        "id": "Z9Ro4OiiCuha",
        "outputId": "e7e4b19b-ef21-4a19-f6aa-499e7504c1c5"
      },
      "outputs": [],
      "source": [
        "# Plot the elbow graph to see the explained variance\n",
        "plt.figure(figsize=(8,6))\n",
        "plt.plot(range(1, len(varianza_acumulada) + 1), varianza_acumulada, marker='o')\n",
        "plt.xlabel('Número de Componentes')\n",
        "plt.ylabel('Varianza Acumulada Explicada')\n",
        "plt.title('Varianza Explicada por Componentes Principales')\n",
        "plt.grid(True)\n",
        "plt.show()"
      ]
    },
    {
      "cell_type": "code",
      "execution_count": 79,
      "metadata": {
        "colab": {
          "base_uri": "https://localhost:8080/"
        },
        "id": "4bY-l22bC6QR",
        "outputId": "fed76e5b-2dca-45db-bb2c-20d259699f4e"
      },
      "outputs": [],
      "source": [
        "# Let's look for the optimal number of features to get the 90% of the explained variance\n",
        "optimal_components = np.argmax(varianza_acumulada >= 0.90) + 1\n",
        "print(f\"Número óptimo de componentes para retener 90% de la varianza: {optimal_components}\")"
      ]
    },
    {
      "cell_type": "code",
      "execution_count": 96,
      "metadata": {
        "colab": {
          "base_uri": "https://localhost:8080/",
          "height": 565
        },
        "id": "24zYfzDeEEOF",
        "outputId": "0a18e555-4d1d-449e-d657-e76c28912159"
      },
      "outputs": [],
      "source": [
        "# We get that we need 7 features, let's now see some graphs\n",
        "x_pca = pca.transform(df_normalized)\n",
        "\n",
        "plt.figure(figsize=(8, 6))\n",
        "plt.scatter(range(len(x_pca[:, 0])), x_pca[:, 0], alpha=0.7, color='blue', label='Primera Componente')\n",
        "plt.scatter(range(len(x_pca[:, 1])), x_pca[:, 1], alpha=0.7, color='orange', label='Segunda Componente')\n",
        "plt.xlabel('First Principal Component')\n",
        "plt.ylabel('Second Principal Component')\n",
        "plt.title('Proyección de los Datos en las Primeras 2 Componentes')\n",
        "plt.grid(alpha=0.3)\n",
        "plt.show()"
      ]
    },
    {
      "cell_type": "code",
      "execution_count": 98,
      "metadata": {
        "colab": {
          "base_uri": "https://localhost:8080/",
          "height": 1000
        },
        "id": "K5TFjCMkHIPw",
        "outputId": "a1be8292-7a60-4563-d86e-bd9ba9dcddc5"
      },
      "outputs": [],
      "source": [
        "# Relationship between the 7 first components\n",
        "\n",
        "# Transformar los datos a las 7 primeras componentes\n",
        "x_pca_7 = pca.transform(df_normalized)[:, :7]\n",
        "\n",
        "# Convertir las componentes principales en un DataFrame\n",
        "pca_df = pd.DataFrame(x_pca_7, columns=[f'PC{i+1}' for i in range(7)])\n",
        "\n",
        "# Crear un pair plot\n",
        "sns.pairplot(pca_df, diag_kind='kde', corner=True, height=2)\n",
        "plt.suptitle('Relación entre las 7 primeras Componentes Principales', y=1.02, fontsize=16)\n",
        "plt.show()"
      ]
    }
  ],
  "metadata": {
    "colab": {
      "provenance": []
    },
    "kernelspec": {
      "display_name": "Python 3",
      "name": "python3"
    },
    "language_info": {
      "codemirror_mode": {
        "name": "ipython",
        "version": 3
      },
      "file_extension": ".py",
      "mimetype": "text/x-python",
      "name": "python",
      "nbconvert_exporter": "python",
      "pygments_lexer": "ipython3",
      "version": "3.12.0"
    }
  },
  "nbformat": 4,
  "nbformat_minor": 0
}
